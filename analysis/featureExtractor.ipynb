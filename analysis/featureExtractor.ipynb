{
 "cells": [
  {
   "cell_type": "code",
   "execution_count": 2,
   "metadata": {},
   "outputs": [],
   "source": [
    "import numpy as np \n",
    "import matplotlib.pyplot as plt"
   ]
  },
  {
   "cell_type": "code",
   "execution_count": 4,
   "metadata": {},
   "outputs": [],
   "source": [
    "from torchvision import models \n",
    "import torch.nn as nn\n",
    "import torch"
   ]
  },
  {
   "cell_type": "code",
   "execution_count": 6,
   "metadata": {},
   "outputs": [],
   "source": [
    "def feature_extractor(checkpointmodel,*exact_list):\n",
    "    sd = checkpointmodel.get('state_dict')\n",
    "    statekeys = sd.keys()\n",
    "    out_feature = {}\n",
    "    for feature in exact_list:\n",
    "        keys = [*filter(lambda x:feature in x,list(myresnet34.get('state_dict').keys()))]\n",
    "        data = []\n",
    "        for k in keys:\n",
    "            data.append({'name':k,'weight':sd.get(k).data})\n",
    "        out_feature[feature] = data\n",
    "    return out_feature\n"
   ]
  },
  {
   "cell_type": "code",
   "execution_count": 7,
   "metadata": {},
   "outputs": [],
   "source": [
    "myresnet34 = torch.load('/home/lixm/experiment_results/resnet34_50spa/checkpoint.pth.tar')\n",
    "out = featureextractor(myresnet34,*['conv1', 'layer1'])"
   ]
  },
  {
   "cell_type": "code",
   "execution_count": 11,
   "metadata": {},
   "outputs": [
    {
     "name": "stdout",
     "output_type": "stream",
     "text": [
      "module.conv1.weight tensor(-1.0361, device='cuda:0')\n",
      "module.layer1.0.conv1.weight tensor(-74.2691, device='cuda:0')\n",
      "module.layer1.1.conv1.weight tensor(-64.0235, device='cuda:0')\n",
      "module.layer1.2.conv1.weight tensor(-35.7590, device='cuda:0')\n",
      "module.layer2.0.conv1.weight tensor(-36.0814, device='cuda:0')\n",
      "module.layer2.1.conv1.weight tensor(-84.5809, device='cuda:0')\n",
      "module.layer2.2.conv1.weight tensor(-80.9749, device='cuda:0')\n",
      "module.layer2.3.conv1.weight tensor(-168.1678, device='cuda:0')\n",
      "module.layer3.0.conv1.weight tensor(-157.6144, device='cuda:0')\n",
      "module.layer3.1.conv1.weight tensor(-414.1266, device='cuda:0')\n",
      "module.layer3.2.conv1.weight tensor(-540.7534, device='cuda:0')\n",
      "module.layer3.3.conv1.weight tensor(-524.4053, device='cuda:0')\n",
      "module.layer3.4.conv1.weight tensor(-551.4119, device='cuda:0')\n",
      "module.layer3.5.conv1.weight tensor(-448.2837, device='cuda:0')\n",
      "module.layer4.0.conv1.weight tensor(-328.5909, device='cuda:0')\n",
      "module.layer4.1.conv1.weight tensor(-2657.8267, device='cuda:0')\n",
      "module.layer4.2.conv1.weight tensor(-2690.0806, device='cuda:0')\n"
     ]
    }
   ],
   "source": [
    "for o in out['conv1']:\n",
    "    print(o['name'],o['weight'].sum())"
   ]
  }
 ],
 "metadata": {
  "file_extension": ".py",
  "kernelspec": {
   "display_name": "Python 3",
   "language": "python",
   "name": "python3"
  },
  "language_info": {
   "codemirror_mode": {
    "name": "ipython",
    "version": 3
   },
   "file_extension": ".py",
   "mimetype": "text/x-python",
   "name": "python",
   "nbconvert_exporter": "python",
   "pygments_lexer": "ipython3",
   "version": "3.6.5"
  },
  "mimetype": "text/x-python",
  "name": "python",
  "npconvert_exporter": "python",
  "pygments_lexer": "ipython3",
  "version": 3
 },
 "nbformat": 4,
 "nbformat_minor": 2
}
